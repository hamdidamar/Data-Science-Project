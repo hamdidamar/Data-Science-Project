{
 "cells": [
  {
   "cell_type": "code",
   "execution_count": 1,
   "metadata": {},
   "outputs": [],
   "source": [
    "import pandas as pd\n",
    "import numpy as np\n",
    "import matplotlib.pyplot as plt\n",
    "import seaborn as sns"
   ]
  },
  {
   "cell_type": "code",
   "execution_count": 2,
   "metadata": {},
   "outputs": [],
   "source": [
    "ogr = pd.read_csv('Ogrenci_Sayilari_2018_2019_.csv')"
   ]
  },
  {
   "cell_type": "code",
   "execution_count": 3,
   "metadata": {},
   "outputs": [],
   "source": [
    "ogr.rename(columns = {'Unnamed: 1':'universite_adi','Unnamed: 2':'tur','Unnamed: 3':'il',\n",
    "'Unnamed: 4':'ogrenim_turu','Unnamed: 5':'onlisans_erkek','Unnamed: 6':'onlisans_kadin',\n",
    "'Unnamed: 7':'onlisans_toplam','Unnamed: 8':'lisans_erkek','Unnamed: 9':'lisans_kadin',\n",
    "'Unnamed: 10':'lisans_toplam','Unnamed: 11':'ylisans_kadin','Unnamed: 12':'ylisans_erkek',\n",
    "'Unnamed: 13':'ylisans_toplam','Unnamed: 14':'doktora_erkek','Unnamed: 15':'doktora_kadin',\n",
    "'Unnamed: 16':'doktora_toplam','Unnamed: 17':'genel_erkek','Unnamed: 18':'genel_kadin',\n",
    "'Unnamed: 19':'genel_toplam',} , inplace = True)"
   ]
  },
  {
   "cell_type": "code",
   "execution_count": 4,
   "metadata": {},
   "outputs": [
    {
     "data": {
      "text/html": [
       "<div>\n",
       "<style scoped>\n",
       "    .dataframe tbody tr th:only-of-type {\n",
       "        vertical-align: middle;\n",
       "    }\n",
       "\n",
       "    .dataframe tbody tr th {\n",
       "        vertical-align: top;\n",
       "    }\n",
       "\n",
       "    .dataframe thead th {\n",
       "        text-align: right;\n",
       "    }\n",
       "</style>\n",
       "<table border=\"1\" class=\"dataframe\">\n",
       "  <thead>\n",
       "    <tr style=\"text-align: right;\">\n",
       "      <th></th>\n",
       "      <th>Unnamed: 0</th>\n",
       "      <th>universite_adi</th>\n",
       "      <th>tur</th>\n",
       "      <th>il</th>\n",
       "      <th>ogrenim_turu</th>\n",
       "      <th>onlisans_erkek</th>\n",
       "      <th>onlisans_kadin</th>\n",
       "      <th>onlisans_toplam</th>\n",
       "      <th>lisans_erkek</th>\n",
       "      <th>lisans_kadin</th>\n",
       "      <th>...</th>\n",
       "      <th>ylisans_kadin</th>\n",
       "      <th>ylisans_erkek</th>\n",
       "      <th>ylisans_toplam</th>\n",
       "      <th>doktora_erkek</th>\n",
       "      <th>doktora_kadin</th>\n",
       "      <th>doktora_toplam</th>\n",
       "      <th>genel_erkek</th>\n",
       "      <th>genel_kadin</th>\n",
       "      <th>genel_toplam</th>\n",
       "      <th>Unnamed: 20</th>\n",
       "    </tr>\n",
       "  </thead>\n",
       "  <tbody>\n",
       "    <tr>\n",
       "      <th>0</th>\n",
       "      <td>NaN</td>\n",
       "      <td>ÖĞRENCİ SAYILARI</td>\n",
       "      <td>NaN</td>\n",
       "      <td>NaN</td>\n",
       "      <td>NaN</td>\n",
       "      <td>NaN</td>\n",
       "      <td>NaN</td>\n",
       "      <td>NaN</td>\n",
       "      <td>NaN</td>\n",
       "      <td>NaN</td>\n",
       "      <td>...</td>\n",
       "      <td>NaN</td>\n",
       "      <td>NaN</td>\n",
       "      <td>NaN</td>\n",
       "      <td>NaN</td>\n",
       "      <td>NaN</td>\n",
       "      <td>NaN</td>\n",
       "      <td>NaN</td>\n",
       "      <td>NaN</td>\n",
       "      <td>NaN</td>\n",
       "      <td>NaN</td>\n",
       "    </tr>\n",
       "    <tr>\n",
       "      <th>1</th>\n",
       "      <td>NaN</td>\n",
       "      <td>Üniversite Adı</td>\n",
       "      <td>Tür</td>\n",
       "      <td>İl</td>\n",
       "      <td>Öğrenim Türü</td>\n",
       "      <td>Okuyan Önlisans</td>\n",
       "      <td>NaN</td>\n",
       "      <td>NaN</td>\n",
       "      <td>Okuyan Lisans</td>\n",
       "      <td>NaN</td>\n",
       "      <td>...</td>\n",
       "      <td>Okuyan Yükseklisans</td>\n",
       "      <td>NaN</td>\n",
       "      <td>NaN</td>\n",
       "      <td>Okuyan Doktora</td>\n",
       "      <td>NaN</td>\n",
       "      <td>NaN</td>\n",
       "      <td>Genel Toplam</td>\n",
       "      <td>NaN</td>\n",
       "      <td>NaN</td>\n",
       "      <td>NaN</td>\n",
       "    </tr>\n",
       "    <tr>\n",
       "      <th>2</th>\n",
       "      <td>NaN</td>\n",
       "      <td>NaN</td>\n",
       "      <td>NaN</td>\n",
       "      <td>NaN</td>\n",
       "      <td>NaN</td>\n",
       "      <td>Erkek</td>\n",
       "      <td>Kadın</td>\n",
       "      <td>Toplam</td>\n",
       "      <td>Erkek</td>\n",
       "      <td>Kadın</td>\n",
       "      <td>...</td>\n",
       "      <td>Erkek</td>\n",
       "      <td>Kadın</td>\n",
       "      <td>Toplam</td>\n",
       "      <td>Erkek</td>\n",
       "      <td>Kadın</td>\n",
       "      <td>Toplam</td>\n",
       "      <td>Erkek</td>\n",
       "      <td>Kadın</td>\n",
       "      <td>Toplam</td>\n",
       "      <td>NaN</td>\n",
       "    </tr>\n",
       "    <tr>\n",
       "      <th>3</th>\n",
       "      <td>NaN</td>\n",
       "      <td>ABDULLAH GÜL ÜNİVERSİTESİ</td>\n",
       "      <td>DEVLET</td>\n",
       "      <td>KAYSERİ</td>\n",
       "      <td>BİRİNCİ Ö.</td>\n",
       "      <td>0</td>\n",
       "      <td>0</td>\n",
       "      <td>0</td>\n",
       "      <td>854</td>\n",
       "      <td>377</td>\n",
       "      <td>...</td>\n",
       "      <td>46</td>\n",
       "      <td>40</td>\n",
       "      <td>86</td>\n",
       "      <td>50</td>\n",
       "      <td>41</td>\n",
       "      <td>91</td>\n",
       "      <td>950</td>\n",
       "      <td>458</td>\n",
       "      <td>1408</td>\n",
       "      <td>NaN</td>\n",
       "    </tr>\n",
       "    <tr>\n",
       "      <th>4</th>\n",
       "      <td>NaN</td>\n",
       "      <td>ACIBADEM MEHMET ALİ AYDINLAR ÜNİVERSİTESİ</td>\n",
       "      <td>VAKIF</td>\n",
       "      <td>İSTANBUL</td>\n",
       "      <td>BİRİNCİ Ö.</td>\n",
       "      <td>343</td>\n",
       "      <td>706</td>\n",
       "      <td>1049</td>\n",
       "      <td>628</td>\n",
       "      <td>1741</td>\n",
       "      <td>...</td>\n",
       "      <td>67</td>\n",
       "      <td>266</td>\n",
       "      <td>333</td>\n",
       "      <td>18</td>\n",
       "      <td>88</td>\n",
       "      <td>106</td>\n",
       "      <td>1056</td>\n",
       "      <td>2801</td>\n",
       "      <td>3857</td>\n",
       "      <td>NaN</td>\n",
       "    </tr>\n",
       "  </tbody>\n",
       "</table>\n",
       "<p>5 rows × 21 columns</p>\n",
       "</div>"
      ],
      "text/plain": [
       "   Unnamed: 0                             universite_adi     tur        il  \\\n",
       "0         NaN                           ÖĞRENCİ SAYILARI     NaN       NaN   \n",
       "1         NaN                             Üniversite Adı     Tür        İl   \n",
       "2         NaN                                        NaN     NaN       NaN   \n",
       "3         NaN                  ABDULLAH GÜL ÜNİVERSİTESİ  DEVLET   KAYSERİ   \n",
       "4         NaN  ACIBADEM MEHMET ALİ AYDINLAR ÜNİVERSİTESİ   VAKIF  İSTANBUL   \n",
       "\n",
       "   ogrenim_turu   onlisans_erkek onlisans_kadin onlisans_toplam  \\\n",
       "0           NaN              NaN            NaN             NaN   \n",
       "1  Öğrenim Türü  Okuyan Önlisans            NaN             NaN   \n",
       "2           NaN            Erkek          Kadın          Toplam   \n",
       "3    BİRİNCİ Ö.                0              0               0   \n",
       "4    BİRİNCİ Ö.              343            706            1049   \n",
       "\n",
       "    lisans_erkek lisans_kadin     ...            ylisans_kadin ylisans_erkek  \\\n",
       "0            NaN          NaN     ...                      NaN           NaN   \n",
       "1  Okuyan Lisans          NaN     ...      Okuyan Yükseklisans           NaN   \n",
       "2          Erkek        Kadın     ...                    Erkek         Kadın   \n",
       "3            854          377     ...                       46            40   \n",
       "4            628         1741     ...                       67           266   \n",
       "\n",
       "  ylisans_toplam   doktora_erkek doktora_kadin doktora_toplam   genel_erkek  \\\n",
       "0            NaN             NaN           NaN            NaN           NaN   \n",
       "1            NaN  Okuyan Doktora           NaN            NaN  Genel Toplam   \n",
       "2         Toplam           Erkek         Kadın         Toplam         Erkek   \n",
       "3             86              50            41             91           950   \n",
       "4            333              18            88            106          1056   \n",
       "\n",
       "  genel_kadin genel_toplam Unnamed: 20  \n",
       "0         NaN          NaN         NaN  \n",
       "1         NaN          NaN         NaN  \n",
       "2       Kadın       Toplam         NaN  \n",
       "3         458         1408         NaN  \n",
       "4        2801         3857         NaN  \n",
       "\n",
       "[5 rows x 21 columns]"
      ]
     },
     "execution_count": 4,
     "metadata": {},
     "output_type": "execute_result"
    }
   ],
   "source": [
    "df_ogr = pd.DataFrame(ogr)\n",
    "df_ogr.head()"
   ]
  },
  {
   "cell_type": "code",
   "execution_count": 5,
   "metadata": {
    "scrolled": true
   },
   "outputs": [],
   "source": [
    "df_ogr.set_index(\"universite_adi\" , inplace = True)"
   ]
  },
  {
   "cell_type": "code",
   "execution_count": 6,
   "metadata": {},
   "outputs": [],
   "source": [
    "df_ogr.drop(['Unnamed: 0','Unnamed: 20'], axis=1 ,inplace = True)"
   ]
  },
  {
   "cell_type": "code",
   "execution_count": 7,
   "metadata": {},
   "outputs": [],
   "source": [
    "df_ogr.drop(df_ogr.index[[0,1,2,26,27]] , inplace = True)"
   ]
  },
  {
   "cell_type": "code",
   "execution_count": 8,
   "metadata": {},
   "outputs": [
    {
     "name": "stdout",
     "output_type": "stream",
     "text": [
      "<class 'pandas.core.frame.DataFrame'>\n",
      "Index: 438 entries, ABDULLAH GÜL ÜNİVERSİTESİ to TOPLAM\n",
      "Data columns (total 18 columns):\n",
      "tur                437 non-null object\n",
      "il                 437 non-null object\n",
      "ogrenim_turu       437 non-null object\n",
      "onlisans_erkek     438 non-null object\n",
      "onlisans_kadin     438 non-null object\n",
      "onlisans_toplam    438 non-null object\n",
      "lisans_erkek       438 non-null object\n",
      "lisans_kadin       438 non-null object\n",
      "lisans_toplam      438 non-null object\n",
      "ylisans_kadin      438 non-null object\n",
      "ylisans_erkek      438 non-null object\n",
      "ylisans_toplam     438 non-null object\n",
      "doktora_erkek      438 non-null object\n",
      "doktora_kadin      438 non-null object\n",
      "doktora_toplam     438 non-null object\n",
      "genel_erkek        438 non-null object\n",
      "genel_kadin        438 non-null object\n",
      "genel_toplam       438 non-null object\n",
      "dtypes: object(18)\n",
      "memory usage: 65.0+ KB\n"
     ]
    }
   ],
   "source": [
    "df_ogr.info()"
   ]
  },
  {
   "cell_type": "code",
   "execution_count": 9,
   "metadata": {},
   "outputs": [
    {
     "data": {
      "text/html": [
       "<div>\n",
       "<style scoped>\n",
       "    .dataframe tbody tr th:only-of-type {\n",
       "        vertical-align: middle;\n",
       "    }\n",
       "\n",
       "    .dataframe tbody tr th {\n",
       "        vertical-align: top;\n",
       "    }\n",
       "\n",
       "    .dataframe thead th {\n",
       "        text-align: right;\n",
       "    }\n",
       "</style>\n",
       "<table border=\"1\" class=\"dataframe\">\n",
       "  <thead>\n",
       "    <tr style=\"text-align: right;\">\n",
       "      <th></th>\n",
       "      <th>tur</th>\n",
       "      <th>il</th>\n",
       "      <th>ogrenim_turu</th>\n",
       "      <th>onlisans_erkek</th>\n",
       "      <th>onlisans_kadin</th>\n",
       "      <th>onlisans_toplam</th>\n",
       "      <th>lisans_erkek</th>\n",
       "      <th>lisans_kadin</th>\n",
       "      <th>lisans_toplam</th>\n",
       "      <th>ylisans_kadin</th>\n",
       "      <th>ylisans_erkek</th>\n",
       "      <th>ylisans_toplam</th>\n",
       "      <th>doktora_erkek</th>\n",
       "      <th>doktora_kadin</th>\n",
       "      <th>doktora_toplam</th>\n",
       "      <th>genel_erkek</th>\n",
       "      <th>genel_kadin</th>\n",
       "      <th>genel_toplam</th>\n",
       "    </tr>\n",
       "  </thead>\n",
       "  <tbody>\n",
       "    <tr>\n",
       "      <th>count</th>\n",
       "      <td>437</td>\n",
       "      <td>437</td>\n",
       "      <td>437</td>\n",
       "      <td>438</td>\n",
       "      <td>438</td>\n",
       "      <td>438</td>\n",
       "      <td>438</td>\n",
       "      <td>438</td>\n",
       "      <td>438</td>\n",
       "      <td>438</td>\n",
       "      <td>438</td>\n",
       "      <td>438</td>\n",
       "      <td>438</td>\n",
       "      <td>438</td>\n",
       "      <td>438</td>\n",
       "      <td>438</td>\n",
       "      <td>438</td>\n",
       "      <td>438</td>\n",
       "    </tr>\n",
       "    <tr>\n",
       "      <th>unique</th>\n",
       "      <td>3</td>\n",
       "      <td>81</td>\n",
       "      <td>4</td>\n",
       "      <td>333</td>\n",
       "      <td>324</td>\n",
       "      <td>347</td>\n",
       "      <td>317</td>\n",
       "      <td>316</td>\n",
       "      <td>317</td>\n",
       "      <td>291</td>\n",
       "      <td>252</td>\n",
       "      <td>304</td>\n",
       "      <td>144</td>\n",
       "      <td>120</td>\n",
       "      <td>150</td>\n",
       "      <td>417</td>\n",
       "      <td>403</td>\n",
       "      <td>419</td>\n",
       "    </tr>\n",
       "    <tr>\n",
       "      <th>top</th>\n",
       "      <td>DEVLET</td>\n",
       "      <td>İSTANBUL</td>\n",
       "      <td>BİRİNCİ Ö.</td>\n",
       "      <td>0</td>\n",
       "      <td>0</td>\n",
       "      <td>0</td>\n",
       "      <td>0</td>\n",
       "      <td>0</td>\n",
       "      <td>0</td>\n",
       "      <td>0</td>\n",
       "      <td>0</td>\n",
       "      <td>0</td>\n",
       "      <td>0</td>\n",
       "      <td>0</td>\n",
       "      <td>0</td>\n",
       "      <td>78</td>\n",
       "      <td>2</td>\n",
       "      <td>98</td>\n",
       "    </tr>\n",
       "    <tr>\n",
       "      <th>freq</th>\n",
       "      <td>304</td>\n",
       "      <td>119</td>\n",
       "      <td>196</td>\n",
       "      <td>79</td>\n",
       "      <td>76</td>\n",
       "      <td>74</td>\n",
       "      <td>116</td>\n",
       "      <td>116</td>\n",
       "      <td>116</td>\n",
       "      <td>95</td>\n",
       "      <td>99</td>\n",
       "      <td>93</td>\n",
       "      <td>270</td>\n",
       "      <td>272</td>\n",
       "      <td>268</td>\n",
       "      <td>3</td>\n",
       "      <td>4</td>\n",
       "      <td>3</td>\n",
       "    </tr>\n",
       "  </tbody>\n",
       "</table>\n",
       "</div>"
      ],
      "text/plain": [
       "           tur        il ogrenim_turu onlisans_erkek onlisans_kadin  \\\n",
       "count      437       437          437            438            438   \n",
       "unique       3        81            4            333            324   \n",
       "top     DEVLET  İSTANBUL   BİRİNCİ Ö.              0              0   \n",
       "freq       304       119          196             79             76   \n",
       "\n",
       "       onlisans_toplam lisans_erkek lisans_kadin lisans_toplam ylisans_kadin  \\\n",
       "count              438          438          438           438           438   \n",
       "unique             347          317          316           317           291   \n",
       "top                  0            0            0             0             0   \n",
       "freq                74          116          116           116            95   \n",
       "\n",
       "       ylisans_erkek ylisans_toplam doktora_erkek doktora_kadin  \\\n",
       "count            438            438           438           438   \n",
       "unique           252            304           144           120   \n",
       "top                0              0             0             0   \n",
       "freq              99             93           270           272   \n",
       "\n",
       "       doktora_toplam genel_erkek genel_kadin genel_toplam  \n",
       "count             438         438         438          438  \n",
       "unique            150         417         403          419  \n",
       "top                 0          78           2           98  \n",
       "freq              268           3           4            3  "
      ]
     },
     "execution_count": 9,
     "metadata": {},
     "output_type": "execute_result"
    }
   ],
   "source": [
    "df_ogr.describe()"
   ]
  },
  {
   "cell_type": "code",
   "execution_count": 41,
   "metadata": {},
   "outputs": [
    {
     "data": {
      "text/plain": [
       "İSTANBUL     119\n",
       "ANKARA        34\n",
       "İZMİR         18\n",
       "ESKİŞEHİR     10\n",
       "KONYA          9\n",
       "TRABZON        8\n",
       "ANTALYA        8\n",
       "MERSİN         7\n",
       "ISPARTA        6\n",
       "KAYSERİ        6\n",
       "Name: il, dtype: int64"
      ]
     },
     "execution_count": 41,
     "metadata": {},
     "output_type": "execute_result"
    }
   ],
   "source": [
    "df_ogr['il'].value_counts().head(10)\n"
   ]
  },
  {
   "cell_type": "code",
   "execution_count": 38,
   "metadata": {},
   "outputs": [
    {
     "data": {
      "text/plain": [
       "BİRİNCİ Ö.    196\n",
       "İKİNCİ Ö.     159\n",
       "UZAKTAN Ö.     79\n",
       "AÇIK Ö.         3\n",
       "Name: ogrenim_turu, dtype: int64"
      ]
     },
     "execution_count": 38,
     "metadata": {},
     "output_type": "execute_result"
    }
   ],
   "source": [
    "df_ogr['ogrenim_turu'].value_counts()"
   ]
  },
  {
   "cell_type": "code",
   "execution_count": null,
   "metadata": {},
   "outputs": [],
   "source": []
  },
  {
   "cell_type": "code",
   "execution_count": 10,
   "metadata": {},
   "outputs": [
    {
     "data": {
      "image/png": "[encoded data removed]",
      "text/plain": [
       "<Figure size 432x288 with 1 Axes>"
      ]
     },
     "metadata": {
      "needs_background": "light"
     },
     "output_type": "display_data"
    }
   ],
   "source": [
    "df_ogril = df_ogr['il'].head(160)\n",
    "sns.countplot(x = df_ogril)\n",
    "plt.title('İllere Göre Üniversite Sayıları')\n",
    "plt.xticks(rotation = 90)\n",
    "plt.show()"
   ]
  },
  {
   "cell_type": "code",
   "execution_count": 11,
   "metadata": {},
   "outputs": [
    {
     "data": {
      "image/png": "[encoded data removed]",
      "text/plain": [
       "<Figure size 432x288 with 1 Axes>"
      ]
     },
     "metadata": {
      "needs_background": "light"
     },
     "output_type": "display_data"
    }
   ],
   "source": [
    "sns.countplot(x = df_ogr['ogrenim_turu'])\n",
    "plt.title('Öğrenim Türüne Göre Üniversite Sayıları')\n",
    "plt.xticks(rotation = 90)\n",
    "plt.show()"
   ]
  },
  {
   "cell_type": "code",
   "execution_count": 12,
   "metadata": {},
   "outputs": [
    {
     "data": {
      "image/png": "[encoded data removed]",
      "text/plain": [
       "<Figure size 432x288 with 1 Axes>"
      ]
     },
     "metadata": {
      "needs_background": "light"
     },
     "output_type": "display_data"
    }
   ],
   "source": [
    "sns.countplot(x = 'tur', hue='ogrenim_turu' ,data = df_ogr)\n",
    "plt.title('Üniversite Türüne Göre Üniversite Sayıları')\n",
    "plt.xticks(rotation = 90)\n",
    "plt.show()"
   ]
  },
  {
   "cell_type": "code",
   "execution_count": null,
   "metadata": {},
   "outputs": [],
   "source": []
  }
 ],
 "metadata": {
  "kernelspec": {
   "display_name": "Python 3",
   "language": "python",
   "name": "python3"
  },
  "language_info": {
   "codemirror_mode": {
    "name": "ipython",
    "version": 3
   },
   "file_extension": ".py",
   "mimetype": "text/x-python",
   "name": "python",
   "nbconvert_exporter": "python",
   "pygments_lexer": "ipython3",
   "version": "3.7.0"
  }
 },
 "nbformat": 4,
 "nbformat_minor": 2
}
